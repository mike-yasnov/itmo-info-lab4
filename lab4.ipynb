{
 "cells": [
  {
   "cell_type": "markdown",
   "metadata": {},
   "source": [
    "# Лабораторная работа №4"
   ]
  },
  {
   "cell_type": "code",
   "execution_count": 1,
   "metadata": {},
   "outputs": [
    {
     "name": "stdout",
     "output_type": "stream",
     "text": [
      "Вариант №22\n"
     ]
    }
   ],
   "source": [
    "print(f\"Вариант №{413122 % 36}\")"
   ]
  },
  {
   "cell_type": "markdown",
   "metadata": {},
   "source": [
    "Посмотрим моё расписание на четверг:"
   ]
  },
  {
   "cell_type": "markdown",
   "metadata": {},
   "source": [
    "![img](images/schedule.png)"
   ]
  },
  {
   "cell_type": "markdown",
   "metadata": {},
   "source": [
    "## Основное задание:"
   ]
  },
  {
   "cell_type": "code",
   "execution_count": 2,
   "metadata": {},
   "outputs": [
    {
     "name": "stdout",
     "output_type": "stream",
     "text": [
      "{'расписание': {'занятие_1': {'время': '8.20-9.50', 'тип': 'лабораторные занятия', 'предмет': 'Основы профессиональной деятельности', 'преподаватель': 'Блохина Елена Николаевна', 'место': 'кронверкский пр., д.49, лит. А', 'кабинет': '1327', 'формат': 'очный'}, 'занятие_2': {'время': '10.00-11.30', 'тип': 'лабораторные занятия', 'предмет': 'Основы профессиональной деятельности', 'преподаватель': 'Блохина Елена Николаевна', 'место': 'кронверкский пр., д.49, лит. А', 'кабинет': '1327', 'формат': 'очный'}, 'занятие_3': {'время': '11.40-13.10', 'тип': 'практические занятия', 'предмет': 'История российской науки и техники', 'преподаватель': 'Белоусов Александр Сергеевич', 'место': 'кронверкский пр., д.49, лит. А', 'кабинет': '2430', 'формат': 'очный'}, 'занятие_4': {'время': '13.30-15.00', 'тип': 'лекции', 'предмет': 'История российской науки и техники', 'преподаватель': 'Белоусов Александр Сергеевич', 'место': 'кронверкский пр., д.49, лит. А', 'кабинет': '1404', 'формат': 'очный'}}}\n"
     ]
    }
   ],
   "source": [
    "from tasks.task1 import yaml2dict, dict2xml\n",
    "\n",
    "schedule = yaml2dict('data/schedule1.yaml')\n",
    "with open('data/schedule1.xml', 'w') as f:\n",
    "    f.write(dict2xml(schedule))\n",
    "    f.close()\n",
    "\n",
    "print(schedule)"
   ]
  },
  {
   "cell_type": "markdown",
   "metadata": {},
   "source": [
    "## Доп задание №1:"
   ]
  },
  {
   "cell_type": "code",
   "execution_count": 3,
   "metadata": {},
   "outputs": [],
   "source": [
    "import yaml \n",
    "import xmltodict\n",
    "\n",
    "\n",
    "schedule=yaml.load(open('data/schedule1.yaml'),Loader=yaml.SafeLoader)\n",
    "file=open(\"data/schedule_with_libraries.xml\",\"w\")\n",
    "xml_string=xmltodict.unparse(schedule,output=file)\n",
    "file.close()"
   ]
  },
  {
   "cell_type": "markdown",
   "metadata": {},
   "source": [
    "## Доп задание №2"
   ]
  },
  {
   "cell_type": "code",
   "execution_count": 4,
   "metadata": {},
   "outputs": [
    {
     "name": "stdout",
     "output_type": "stream",
     "text": [
      "{'расписание': {'занятие_1': {'время': '8.20-9.50', 'тип': 'лабораторные занятия', 'предмет': 'Основы профессиональной деятельности', 'преподаватель': 'Блохина Елена Николаевна', 'место': 'кронверкский пр., д.49, лит. А', 'кабинет': '1327', 'формат': 'очный'}, 'занятие_2': {'время': '10.00-11.30', 'тип': 'лабораторные занятия', 'предмет': 'Основы профессиональной деятельности', 'преподаватель': 'Блохина Елена Николаевна', 'место': 'кронверкский пр., д.49, лит. А', 'кабинет': '1327', 'формат': 'очный'}, 'занятие_3': {'время': '11.40-13.10', 'тип': 'практические занятия', 'предмет': 'История российской науки и техники', 'преподаватель': 'Белоусов Александр Сергеевич', 'место': 'кронверкский пр., д.49, лит. А', 'кабинет': '2430', 'формат': 'очный'}, 'занятие_4': {'время': '13.30-15.00', 'тип': 'лекции', 'предмет': 'История российской науки и техники', 'преподаватель': 'Белоусов Александр Сергеевич', 'место': 'кронверкский пр., д.49, лит. А', 'кабинет': '1404', 'формат': 'очный'}}}\n"
     ]
    }
   ],
   "source": [
    "from tasks.task3 import yaml2dict, dict2xml\n",
    "\n",
    "schedule = yaml2dict('data/schedule1.yaml')\n",
    "with open('data/schedule2.xml', 'w') as f:\n",
    "    f.write(dict2xml(schedule))\n",
    "    f.close()\n",
    "\n",
    "print(schedule)"
   ]
  },
  {
   "cell_type": "markdown",
   "metadata": {},
   "source": [
    "## Доп задание №3"
   ]
  },
  {
   "cell_type": "code",
   "execution_count": 5,
   "metadata": {},
   "outputs": [
    {
     "name": "stdout",
     "output_type": "stream",
     "text": [
      "CPU times: user 2.53 ms, sys: 386 µs, total: 2.91 ms\n",
      "Wall time: 2.11 ms\n"
     ]
    }
   ],
   "source": [
    "%%time\n",
    "from tasks.task3 import yaml2dict, dict2xml\n",
    "\n",
    "schedule = yaml2dict('data/schedule2.yaml')\n",
    "with open('data/schedule3.xml', 'w') as f:\n",
    "    f.write(dict2xml(schedule))\n",
    "    f.close()"
   ]
  },
  {
   "cell_type": "code",
   "execution_count": 6,
   "metadata": {},
   "outputs": [
    {
     "name": "stdout",
     "output_type": "stream",
     "text": [
      "CPU times: user 11 ms, sys: 470 µs, total: 11.5 ms\n",
      "Wall time: 10.5 ms\n"
     ]
    }
   ],
   "source": [
    "%%time\n",
    "import yaml \n",
    "import xmltodict\n",
    "\n",
    "\n",
    "schedule=yaml.load(open('data/schedule2.yaml'),Loader=yaml.SafeLoader)\n",
    "\n",
    "with open('data/schedule_with_libraries2.xml', 'w') as f:\n",
    "    xml_string=xmltodict.unparse(schedule,output=f)\n",
    "    f.close()"
   ]
  },
  {
   "cell_type": "markdown",
   "metadata": {},
   "source": [
    "## Доп задание №4\n",
    "Сравним время выполнения кода (без библиотек и с библиотеками)"
   ]
  },
  {
   "cell_type": "code",
   "execution_count": 7,
   "metadata": {},
   "outputs": [],
   "source": [
    "from tasks.task1 import yaml2dict, dict2xml"
   ]
  },
  {
   "cell_type": "markdown",
   "metadata": {},
   "source": [
    "Вынесем импорты, так как они могут влиять на время выполнения программы"
   ]
  },
  {
   "cell_type": "code",
   "execution_count": 8,
   "metadata": {},
   "outputs": [
    {
     "name": "stdout",
     "output_type": "stream",
     "text": [
      "CPU times: user 52.7 ms, sys: 7.5 ms, total: 60.2 ms\n",
      "Wall time: 81.4 ms\n"
     ]
    }
   ],
   "source": [
    "%%time\n",
    "for _ in range(100):\n",
    "    schedule = yaml2dict('data/schedule1.yaml')\n",
    "    with open('data/schedule1.xml', 'w') as f:\n",
    "        f.write(dict2xml(schedule))\n",
    "        f.close()"
   ]
  },
  {
   "cell_type": "code",
   "execution_count": 9,
   "metadata": {},
   "outputs": [
    {
     "name": "stdout",
     "output_type": "stream",
     "text": [
      "CPU times: user 313 ms, sys: 63.8 ms, total: 377 ms\n",
      "Wall time: 379 ms\n"
     ]
    }
   ],
   "source": [
    "%%time\n",
    "for _ in range(1000):\n",
    "    schedule = yaml2dict('data/schedule1.yaml')\n",
    "    with open('data/schedule1.xml', 'w') as f:\n",
    "        f.write(dict2xml(schedule))\n",
    "        f.close()"
   ]
  },
  {
   "cell_type": "code",
   "execution_count": 10,
   "metadata": {},
   "outputs": [],
   "source": [
    "import yaml \n",
    "import xmltodict"
   ]
  },
  {
   "cell_type": "code",
   "execution_count": 11,
   "metadata": {},
   "outputs": [
    {
     "name": "stdout",
     "output_type": "stream",
     "text": [
      "CPU times: user 691 ms, sys: 28.1 ms, total: 719 ms\n",
      "Wall time: 718 ms\n"
     ]
    }
   ],
   "source": [
    "%%time\n",
    "for _ in range(100):\n",
    "    schedule=yaml.load(open('data/schedule1.yaml'),Loader=yaml.SafeLoader)\n",
    "    file=open(\"data/schedule_with_libraries.xml\",\"w\")\n",
    "    xml_string=xmltodict.unparse(schedule,output=file)\n",
    "    file.close()"
   ]
  },
  {
   "cell_type": "code",
   "execution_count": 12,
   "metadata": {},
   "outputs": [
    {
     "name": "stdout",
     "output_type": "stream",
     "text": [
      "CPU times: user 6.48 s, sys: 161 ms, total: 6.64 s\n",
      "Wall time: 6.64 s\n"
     ]
    }
   ],
   "source": [
    "%%time\n",
    "for _ in range(1000):\n",
    "    schedule=yaml.load(open('data/schedule1.yaml'),Loader=yaml.SafeLoader)\n",
    "    file=open(\"data/schedule_with_libraries.xml\",\"w\")\n",
    "    xml_string=xmltodict.unparse(schedule,output=file)\n",
    "    file.close()"
   ]
  },
  {
   "cell_type": "markdown",
   "metadata": {},
   "source": [
    "## Доп задание №5"
   ]
  },
  {
   "cell_type": "code",
   "execution_count": 13,
   "metadata": {},
   "outputs": [],
   "source": [
    "import pandas as pd\n",
    "schedule = yaml2dict('data/schedule1.yaml')\n",
    "df = pd.DataFrame(schedule['расписание'])\n",
    "df.to_csv('data/schedule1.csv')"
   ]
  }
 ],
 "metadata": {
  "kernelspec": {
   "display_name": "Python 3",
   "language": "python",
   "name": "python3"
  },
  "language_info": {
   "codemirror_mode": {
    "name": "ipython",
    "version": 3
   },
   "file_extension": ".py",
   "mimetype": "text/x-python",
   "name": "python",
   "nbconvert_exporter": "python",
   "pygments_lexer": "ipython3",
   "version": "3.10.12"
  }
 },
 "nbformat": 4,
 "nbformat_minor": 2
}
